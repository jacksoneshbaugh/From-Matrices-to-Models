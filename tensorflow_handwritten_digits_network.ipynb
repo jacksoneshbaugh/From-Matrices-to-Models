{
 "cells": [
  {
   "metadata": {},
   "cell_type": "markdown",
   "source": [
    "# MNIST Handwritten Digits ANN\n",
    "This notebook contains an implementation of the network alluded to in Section 5 (the conclusion) of _\"From Matrices to Models.\"_ It is trained to recognize handwritten digits. Each image of a handwritten digit (grayscale) is converted into a list of values between 0 and 1—each pixel of the image (an entry) holds its color."
   ],
   "id": "8dd4892ac837a7ba"
  },
  {
   "metadata": {},
   "cell_type": "markdown",
   "source": "We begin by importing all the libraries we'll need for this network.",
   "id": "f88271d4321e215"
  },
  {
   "cell_type": "code",
   "id": "initial_id",
   "metadata": {
    "collapsed": true,
    "ExecuteTime": {
     "end_time": "2024-12-09T03:56:56.385952Z",
     "start_time": "2024-12-09T03:56:56.383398Z"
    }
   },
   "source": [
    "import numpy as np\n",
    "from tensorflow.keras import layers, models\n",
    "from tensorflow.keras.datasets import mnist\n",
    "from tensorflow.keras.utils import to_categorical\n",
    "import matplotlib.pyplot as plt"
   ],
   "outputs": [],
   "execution_count": 2
  },
  {
   "metadata": {},
   "cell_type": "markdown",
   "source": "Next, we load and reshape the data, and convert the labels to one-hot encoding (there will be 10 nodes on the output layer, and this tells the network that the most active (value closest to one) node is the prediction).",
   "id": "5567dc216bcba539"
  },
  {
   "metadata": {
    "ExecuteTime": {
     "end_time": "2024-12-09T03:56:56.595406Z",
     "start_time": "2024-12-09T03:56:56.387473Z"
    }
   },
   "cell_type": "code",
   "source": [
    "# Load MNIST dataset\n",
    "(X_train, y_train), (X_test, y_test) = mnist.load_data()\n",
    "\n",
    "# Preprocess the data\n",
    "# Normalize the images to be between 0 and 1\n",
    "X_train = X_train.astype('float32') / 255\n",
    "X_test = X_test.astype('float32') / 255\n",
    "\n",
    "# Reshape data to (num_samples, 28, 28, 1) for compatibility with Conv2D layer (even though we are using Dense layers)\n",
    "X_train = X_train.reshape(-1, 28, 28, 1)\n",
    "X_test = X_test.reshape(-1, 28, 28, 1)\n",
    "\n",
    "# Convert labels to one-hot encoding\n",
    "y_train = to_categorical(y_train, 10)  # 10 classes (digits 0-9)\n",
    "y_test = to_categorical(y_test, 10)"
   ],
   "id": "f842845764756f91",
   "outputs": [],
   "execution_count": 3
  },
  {
   "metadata": {},
   "cell_type": "markdown",
   "source": [
    "Now, we define the model itself, made up of 5 layers:\n",
    "- Input Layer: $\\mathbb{R}^{28 \\times 28}$\n",
    "- Second Layer (Flatten Layer): $T_1 : \\mathbb{R}^{28 \\times 28} \\rightarrow \\mathbb{R}^{784}$ [This layer converts the 2D image into a 1D vector].\n",
    "- Third Layer (Dense Layer): $T_2 : \\mathbb{R}^{784} \\rightarrow \\mathbb{R}^{128}$ [This layer narrows down the number of neurons to move toward an output].\n",
    "- Fourth Layer (Dropout Layer): $T_3 : \\mathbb{R}^{128} \\rightarrow \\mathbb{R}^{128}$ [This layer sets a fraction of the inputs to zero and helps to prevent overfitting].\n",
    "- Fifth Layer (Output Layer) $T_4 : \\mathbb{R}^{128} \\rightarrow \\mathbb{R}^{10}$ [The node with the greatest value is the network's prediction (nodes labeled 0–9)]."
   ],
   "id": "4314401b16bd19a4"
  },
  {
   "metadata": {
    "ExecuteTime": {
     "end_time": "2024-12-09T03:56:56.646565Z",
     "start_time": "2024-12-09T03:56:56.596361Z"
    }
   },
   "cell_type": "code",
   "source": [
    "# Define the model\n",
    "model = models.Sequential([\n",
    "    layers.Input(shape=(28, 28, 1)),\n",
    "    layers.Flatten(input_shape=(28, 28, 1)),  # Flatten the image to a 1D vector\n",
    "    layers.Dense(128, activation='relu', kernel_initializer='he_normal'),  # Hidden layer\n",
    "    layers.Dropout(0.2),  # Dropout layer to avoid overfitting\n",
    "    layers.Dense(10, activation='softmax')  # Output layer for 10 classes\n",
    "])"
   ],
   "id": "2a2804499cfa11fc",
   "outputs": [
    {
     "name": "stderr",
     "output_type": "stream",
     "text": [
      "/Users/test/Development/Lafayette/MATH 272/From Matrices to Models/.venv/lib/python3.12/site-packages/keras/src/layers/reshaping/flatten.py:37: UserWarning: Do not pass an `input_shape`/`input_dim` argument to a layer. When using Sequential models, prefer using an `Input(shape)` object as the first layer in the model instead.\n",
      "  super().__init__(**kwargs)\n"
     ]
    }
   ],
   "execution_count": 4
  },
  {
   "metadata": {},
   "cell_type": "markdown",
   "source": "Next, we compile, train, and test the model.",
   "id": "8e24dd9b509ff8ba"
  },
  {
   "metadata": {
    "ExecuteTime": {
     "end_time": "2024-12-09T03:57:22.763297Z",
     "start_time": "2024-12-09T03:56:56.647167Z"
    }
   },
   "cell_type": "code",
   "source": [
    "# Compile the model\n",
    "model.compile(\n",
    "    optimizer='adam',              # Adam optimizer\n",
    "    loss='categorical_crossentropy',  # Loss function for multi-class classification\n",
    "    metrics=['accuracy']            # Monitor accuracy during training\n",
    ")\n",
    "\n",
    "# Train the model\n",
    "history = model.fit(\n",
    "    X_train,        # Training data\n",
    "    y_train,        # Training labels\n",
    "    epochs=10,      # Number of epochs\n",
    "    batch_size=32,  # Batch size\n",
    "    validation_split=0.2  # Split off 20% of training data for validation\n",
    ")\n",
    "\n",
    "# Evaluate the model on the test set\n",
    "test_loss, test_acc = model.evaluate(X_test, y_test, verbose=2)\n",
    "print(f'Test accuracy: {test_acc * 100:.2f}%')\n",
    "\n",
    "# Make predictions on the test set\n",
    "predictions = model.predict(X_test)\n",
    "\n",
    "# Show the first test image and its predicted label\n",
    "\n",
    "plt.imshow(X_test[0].reshape(28, 28), cmap='gray')\n",
    "plt.title(f\"Predicted label: {np.argmax(predictions[0])}\")\n",
    "plt.show()"
   ],
   "id": "9f875373442f52d3",
   "outputs": [
    {
     "name": "stdout",
     "output_type": "stream",
     "text": [
      "Epoch 1/10\n",
      "\u001B[1m1500/1500\u001B[0m \u001B[32m━━━━━━━━━━━━━━━━━━━━\u001B[0m\u001B[37m\u001B[0m \u001B[1m2s\u001B[0m 1ms/step - accuracy: 0.8430 - loss: 0.5355 - val_accuracy: 0.9552 - val_loss: 0.1628\n",
      "Epoch 2/10\n",
      "\u001B[1m1500/1500\u001B[0m \u001B[32m━━━━━━━━━━━━━━━━━━━━\u001B[0m\u001B[37m\u001B[0m \u001B[1m2s\u001B[0m 1ms/step - accuracy: 0.9510 - loss: 0.1669 - val_accuracy: 0.9657 - val_loss: 0.1163\n",
      "Epoch 3/10\n",
      "\u001B[1m1500/1500\u001B[0m \u001B[32m━━━━━━━━━━━━━━━━━━━━\u001B[0m\u001B[37m\u001B[0m \u001B[1m2s\u001B[0m 1ms/step - accuracy: 0.9636 - loss: 0.1201 - val_accuracy: 0.9693 - val_loss: 0.0996\n",
      "Epoch 4/10\n",
      "\u001B[1m1500/1500\u001B[0m \u001B[32m━━━━━━━━━━━━━━━━━━━━\u001B[0m\u001B[37m\u001B[0m \u001B[1m2s\u001B[0m 1ms/step - accuracy: 0.9705 - loss: 0.0979 - val_accuracy: 0.9717 - val_loss: 0.0934\n",
      "Epoch 5/10\n",
      "\u001B[1m1500/1500\u001B[0m \u001B[32m━━━━━━━━━━━━━━━━━━━━\u001B[0m\u001B[37m\u001B[0m \u001B[1m2s\u001B[0m 2ms/step - accuracy: 0.9762 - loss: 0.0793 - val_accuracy: 0.9737 - val_loss: 0.0865\n",
      "Epoch 6/10\n",
      "\u001B[1m1500/1500\u001B[0m \u001B[32m━━━━━━━━━━━━━━━━━━━━\u001B[0m\u001B[37m\u001B[0m \u001B[1m3s\u001B[0m 2ms/step - accuracy: 0.9789 - loss: 0.0668 - val_accuracy: 0.9762 - val_loss: 0.0800\n",
      "Epoch 7/10\n",
      "\u001B[1m1500/1500\u001B[0m \u001B[32m━━━━━━━━━━━━━━━━━━━━\u001B[0m\u001B[37m\u001B[0m \u001B[1m3s\u001B[0m 2ms/step - accuracy: 0.9816 - loss: 0.0603 - val_accuracy: 0.9749 - val_loss: 0.0862\n",
      "Epoch 8/10\n",
      "\u001B[1m1500/1500\u001B[0m \u001B[32m━━━━━━━━━━━━━━━━━━━━\u001B[0m\u001B[37m\u001B[0m \u001B[1m3s\u001B[0m 2ms/step - accuracy: 0.9826 - loss: 0.0540 - val_accuracy: 0.9757 - val_loss: 0.0860\n",
      "Epoch 9/10\n",
      "\u001B[1m1500/1500\u001B[0m \u001B[32m━━━━━━━━━━━━━━━━━━━━\u001B[0m\u001B[37m\u001B[0m \u001B[1m3s\u001B[0m 2ms/step - accuracy: 0.9850 - loss: 0.0466 - val_accuracy: 0.9757 - val_loss: 0.0828\n",
      "Epoch 10/10\n",
      "\u001B[1m1500/1500\u001B[0m \u001B[32m━━━━━━━━━━━━━━━━━━━━\u001B[0m\u001B[37m\u001B[0m \u001B[1m3s\u001B[0m 2ms/step - accuracy: 0.9847 - loss: 0.0446 - val_accuracy: 0.9770 - val_loss: 0.0804\n",
      "313/313 - 0s - 1ms/step - accuracy: 0.9789 - loss: 0.0748\n",
      "Test accuracy: 97.89%\n",
      "\u001B[1m313/313\u001B[0m \u001B[32m━━━━━━━━━━━━━━━━━━━━\u001B[0m\u001B[37m\u001B[0m \u001B[1m0s\u001B[0m 962us/step\n"
     ]
    },
    {
     "data": {
      "text/plain": [
       "<Figure size 640x480 with 1 Axes>"
      ],
      "image/png": "[encoded data removed]"
     },
     "metadata": {},
     "output_type": "display_data"
    }
   ],
   "execution_count": 5
  }
 ],
 "metadata": {
  "kernelspec": {
   "display_name": "Python 3",
   "language": "python",
   "name": "python3"
  },
  "language_info": {
   "codemirror_mode": {
    "name": "ipython",
    "version": 2
   },
   "file_extension": ".py",
   "mimetype": "text/x-python",
   "name": "python",
   "nbconvert_exporter": "python",
   "pygments_lexer": "ipython2",
   "version": "2.7.6"
  }
 },
 "nbformat": 4,
 "nbformat_minor": 5
}
